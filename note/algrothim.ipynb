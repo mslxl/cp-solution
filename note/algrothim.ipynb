{
 "cells": [
  {
   "cell_type": "markdown",
   "source": [
    "# 最大公约数：辗转相除法\r\n",
    "计算公式：$gcd(a,b) = gcd(b, a \\mod b)$\r\n",
    "\r\n",
    "当 $a \\mod b$ 的结果为 0 时，除数 $b$ 即为最大公约数"
   ],
   "metadata": {}
  },
  {
   "cell_type": "code",
   "execution_count": 4,
   "source": [
    "def gcd(a,b):\r\n",
    "    md = a % b\r\n",
    "    if(md == 0):\r\n",
    "        return b\r\n",
    "    else:\r\n",
    "        return gcd(b, md)\r\n",
    "\r\n",
    "print(\"gcd({},{})={}\".format(3,2,gcd(2,3)))"
   ],
   "outputs": [
    {
     "output_type": "stream",
     "name": "stdout",
     "text": [
      "gcd(3,2)=1\n"
     ]
    }
   ],
   "metadata": {}
  },
  {
   "cell_type": "markdown",
   "source": [
    "# 最小公倍数\r\n",
    "若记$a,b$的最大公约数为$(a,b)$,最小公倍数为$[a,b]$，则存在 $(a,b) * [a,b] = ab$"
   ],
   "metadata": {}
  },
  {
   "cell_type": "code",
   "execution_count": 12,
   "source": [
    "def gcd(a,b):\r\n",
    "    md = a % b\r\n",
    "    if(md == 0):\r\n",
    "        return b\r\n",
    "    else:\r\n",
    "        return gcd(b, md)\r\n",
    "\r\n",
    "def lcm(a,b):\r\n",
    "    return (a*b)/gcd(a,b)\r\n",
    "print(\"lcm({}, {}) = {}\".format(2,3,lcm(2,3)))"
   ],
   "outputs": [
    {
     "output_type": "stream",
     "name": "stdout",
     "text": [
      "lcm(2, 3) = 6.0\n"
     ]
    }
   ],
   "metadata": {}
  }
 ],
 "metadata": {
  "orig_nbformat": 4,
  "language_info": {
   "name": "python",
   "version": "3.9.7",
   "mimetype": "text/x-python",
   "codemirror_mode": {
    "name": "ipython",
    "version": 3
   },
   "pygments_lexer": "ipython3",
   "nbconvert_exporter": "python",
   "file_extension": ".py"
  },
  "kernelspec": {
   "name": "python3",
   "display_name": "Python 3.9.7 64-bit"
  },
  "interpreter": {
   "hash": "63fd5069d213b44bf678585dea6b12cceca9941eaf7f819626cde1f2670de90d"
  }
 },
 "nbformat": 4,
 "nbformat_minor": 2
}