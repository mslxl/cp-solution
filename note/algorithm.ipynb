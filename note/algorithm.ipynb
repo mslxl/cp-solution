{
 "cells": [
  {
   "cell_type": "markdown",
   "metadata": {},
   "source": [
    "# 最大公约数：辗转相除法\n",
    "计算公式：$gcd(a,b) = gcd(b, a \\mod b)$\n",
    "\n",
    "当 $a \\mod b$ 的结果为 0 时，除数 $b$ 即为最大公约数"
   ]
  },
  {
   "cell_type": "code",
   "execution_count": 20,
   "metadata": {},
   "outputs": [
    {
     "name": "stdout",
     "output_type": "stream",
     "text": [
      "gcd(3,2)=1\n"
     ]
    }
   ],
   "source": [
    "def gcd(a,b):\n",
    "    md = a % b\n",
    "    if(md == 0):\n",
    "        return b\n",
    "    else:\n",
    "        return gcd(b, md)\n",
    "\n",
    "print(\"gcd({},{})={}\".format(3,2,gcd(2,3)))"
   ]
  },
  {
   "cell_type": "markdown",
   "metadata": {},
   "source": [
    "# 最小公倍数\n",
    "若记$a,b$的最大公约数为$(a,b)$,最小公倍数为$[a,b]$，则存在 $(a,b) * [a,b] = ab$"
   ]
  },
  {
   "cell_type": "code",
   "execution_count": 21,
   "metadata": {},
   "outputs": [
    {
     "name": "stdout",
     "output_type": "stream",
     "text": [
      "lcm(2, 3) = 6.0\n"
     ]
    }
   ],
   "source": [
    "def gcd(a,b):\n",
    "    md = a % b\n",
    "    if(md == 0):\n",
    "        return b\n",
    "    else:\n",
    "        return gcd(b, md)\n",
    "\n",
    "def lcm(a,b):\n",
    "    return (a*b)/gcd(a,b)\n",
    "print(\"lcm({}, {}) = {}\".format(2,3,lcm(2,3)))"
   ]
  },
  {
   "cell_type": "markdown",
   "metadata": {},
   "source": [
    "# KMP 算法: 经典的串匹配算法\n",
    "用于匹配字符串的算法，大体可分为 `next` 数组的生成和比较\n",
    "\n",
    "![kmp_note](algorithm.assets\\kmp.jpg)\n",
    "\n",
    "有关视频可以参见 [BV1Px411z7Yo](https://www.bilibili.com/video/BV1Px411z7Yo)\n",
    "\n",
    "下面是一段比较低效的例子："
   ]
  },
  {
   "cell_type": "code",
   "execution_count": 22,
   "metadata": {},
   "outputs": [
    {
     "name": "stdout",
     "output_type": "stream",
     "text": [
      "Next array: [-1, 0, 0, 1, 2]\n",
      "Result: (5, 'ababc')\n"
     ]
    }
   ],
   "source": [
    "def getNxt(text):\n",
    "    for idx in range(len(text)-1, 0,-1):\n",
    "        if(text[0:idx] == text[len(text) - idx:]):\n",
    "            return idx\n",
    "    return 0;\n",
    "\n",
    "def build(text):\n",
    "    arr = [getNxt(text[:x+1]) for x in range(len(text) - 1)]\n",
    "    return [-1] + arr\n",
    "\n",
    "def search(whole, sub, prefix):\n",
    "    idx = 0 # 主串的匹配位置\n",
    "    cmpIdx = 0 # 模板串的匹配位置\n",
    "    while idx < len(whole):\n",
    "        if whole[idx] == sub[cmpIdx]:\n",
    "            # 单步相等，各进一步\n",
    "            idx+=1\n",
    "            cmpIdx+=1\n",
    "        else:\n",
    "            # 失配了，进行移动\n",
    "            if prefix[cmpIdx] == -1:\n",
    "                idx += 1\n",
    "                cmpIdx = 0\n",
    "            else:\n",
    "                cmpIdx = prefix[cmpIdx]\n",
    "        if(cmpIdx == len(sub)):\n",
    "            # 走完了，匹配成功\n",
    "            return (idx - len(sub), whole[idx-len(sub): idx])\n",
    "    return (-1, None)\n",
    "        \n",
    "\n",
    "\n",
    "next = build(\"ababc\")\n",
    "print(\"Next array: {}\".format(next))\n",
    "result = search(\"abaacababcac\", \"ababc\", next)\n",
    "print(\"Result: {}\".format(result))\n"
   ]
  },
  {
   "cell_type": "markdown",
   "metadata": {},
   "source": [
    "# 单项链表：数组模拟"
   ]
  }
 ],
 "metadata": {
  "interpreter": {
   "hash": "63fd5069d213b44bf678585dea6b12cceca9941eaf7f819626cde1f2670de90d"
  },
  "kernelspec": {
   "display_name": "Python 3.9.7 64-bit",
   "name": "python3"
  },
  "language_info": {
   "codemirror_mode": {
    "name": "ipython",
    "version": 3
   },
   "file_extension": ".py",
   "mimetype": "text/x-python",
   "name": "python",
   "nbconvert_exporter": "python",
   "pygments_lexer": "ipython3",
   "version": "3.9.7"
  },
  "orig_nbformat": 4
 },
 "nbformat": 4,
 "nbformat_minor": 2
}
