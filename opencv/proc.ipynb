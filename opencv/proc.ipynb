{
 "cells": [
  {
   "cell_type": "markdown",
   "metadata": {},
   "source": [
    "# OpenCV Imgproc"
   ]
  },
  {
   "cell_type": "code",
   "execution_count": null,
   "metadata": {},
   "outputs": [],
   "source": [
    "import cv2\n",
    "import matplotlib.pyplot as plt\n",
    "import numpy\n",
    "import math\n",
    "%matplotlib inline\n",
    "\n",
    "plt.rcParams['figure.figsize'] = [8,6]\n",
    "plt.rcParams['figure.dpi'] = 120\n",
    "\n",
    "\n",
    "def imshow(img, pos=None, title=None):\n",
    "    if isinstance(img, dict):\n",
    "        imshow_map(img)\n",
    "        return\n",
    "    if isinstance(img, list):\n",
    "        imshow_list(img)\n",
    "        return\n",
    "    else:\n",
    "        if pos != None:\n",
    "            plt.subplot(pos)\n",
    "        if (len(img.shape) >=3 and img.shape[2] == 3) or (len(img.shape) == 2):\n",
    "            plt.imshow(cv2.cvtColor(img,cv2.COLOR_BGR2RGBA))\n",
    "        else:\n",
    "            plt.imshow(img)\n",
    "        if title != None:\n",
    "            plt.title(title)\n",
    "\n",
    "def imshow_list(lp):\n",
    "    imshow_map(dict([(idx, value)for idx,value in enumerate(lp)]))\n",
    "\n",
    "\n",
    "def imshow_map(mp):\n",
    "    num = len(mp)\n",
    "    col = 3 if num >= 3 else num % 3 \n",
    "    row = math.ceil(num / 3)\n",
    "    idx = 0\n",
    "    for title in mp:\n",
    "        img = mp[title]\n",
    "        idx += 1\n",
    "        pos = row * 100 + col * 10 + idx\n",
    "        imshow(img, pos, title)\n",
    "\n",
    "img = cv2.imread('profile.jpg')\n",
    "gray = cv2.imread('profile.jpg',cv2.IMREAD_GRAYSCALE)"
   ]
  },
  {
   "cell_type": "markdown",
   "metadata": {},
   "source": [
    "## 图像阈值\n",
    "`cv2.threshold(src,thresh,maxval,type)`\n",
    "输入图只能为单通道图像，即灰度图\n",
    "\n",
    "| Flag | Desc |\n",
    "|:- |:- |\n",
    "|BINARY|大于`thresh`取`maxval` ，否则取 `0`|\n",
    "|BINARY_INV| 大于阈值取`0`，否则取`maxval` |\n",
    "|TRUNC|大于阈值的部分设为阈值，否则不变|\n",
    "|TOZERO|大于阈值的部分不变，否则设为 0|\n",
    "|TOZERO_INV|大于阈值的部分设为0，否则不变|\n",
    "\n"
   ]
  },
  {
   "cell_type": "code",
   "execution_count": null,
   "metadata": {},
   "outputs": [],
   "source": [
    "thresh = 144\n",
    "maxval = 255\n",
    "_, binary = cv2.threshold(gray,thresh,maxval,cv2.THRESH_BINARY)\n",
    "_, binary_inv = cv2.threshold(gray,thresh,maxval,cv2.THRESH_BINARY_INV)\n",
    "_, trunc = cv2.threshold(gray,thresh,maxval,cv2.THRESH_TRUNC)\n",
    "_, tozero = cv2.threshold(gray,thresh,maxval,cv2.THRESH_TOZERO)\n",
    "_, tozero_inv = cv2.threshold(gray,thresh,maxval,cv2.THRESH_TOZERO_INV)\n",
    "imshow(gray,231, \"Origional\")\n",
    "imshow(binary,232, \"Binary\")\n",
    "imshow(binary_inv,233, \"Binary_inv\")\n",
    "imshow(trunc,234, \"Trunc\")\n",
    "imshow(tozero,235, \"Tozero\")\n",
    "imshow(tozero_inv,236, \"Tozero_inv\")\n"
   ]
  },
  {
   "cell_type": "markdown",
   "metadata": {},
   "source": [
    "## 平滑处理\n",
    "### 均值滤波 Blur\n",
    "简单的平均卷积操作，用来简单的处理噪点\n",
    "`cv.blur(img,size)` 其中size是一个二元组，表示卷积大小\n"
   ]
  },
  {
   "cell_type": "code",
   "execution_count": null,
   "metadata": {},
   "outputs": [],
   "source": [
    "noise = cv2.imread('noise.png')\n",
    "blur5 = cv2.blur(noise,(5,5))\n",
    "blur50 = cv2.blur(noise,(50,50))\n",
    "imshow(noise,131, \"Origion\")\n",
    "imshow(noise,132,\"Blur 5x5\")\n",
    "imshow(blur50, 133,\"Blur 50x50\")\n"
   ]
  },
  {
   "cell_type": "markdown",
   "metadata": {},
   "source": [
    "### 方框滤波\n",
    "cv2.boxFilter(img, deepth, size, normalize)\n",
    "+ deepth 可输入 -1 ，意味与输出相同\n",
    "+ normalize 表示是否归一化\n",
    "\n",
    "方框滤波与均值滤波基本相同，区别就在于可以选择不进行归一化\n",
    "\n",
    "不进行归一化，结果可能溢出（超过uint8范围），被进行截断操作"
   ]
  },
  {
   "cell_type": "code",
   "execution_count": null,
   "metadata": {},
   "outputs": [],
   "source": [
    "box = cv2.boxFilter(noise,-1,(5,5),normalize=True)\n",
    "boxWithout = cv2.boxFilter(noise, -1, (5,5), normalize=False)\n",
    "imshow(noise, 131, \"Origion\")\n",
    "imshow(box,132,\"Box Filter\")\n",
    "imshow(boxWithout, 133, \"Box Filter Without Normalize\")"
   ]
  },
  {
   "cell_type": "markdown",
   "metadata": {},
   "source": [
    "### 高斯滤波\n",
    "高斯滤波的卷积核里的数值是满足高斯分布的，也就是说更重视中间的值"
   ]
  },
  {
   "cell_type": "code",
   "execution_count": null,
   "metadata": {},
   "outputs": [],
   "source": [
    "gaussian = cv2.GaussianBlur(noise, (51,51), 1)\n",
    "imshow(noise, 121, \"Origion\")\n",
    "imshow(gaussian, 122, \"Gaussian\")"
   ]
  },
  {
   "cell_type": "markdown",
   "metadata": {},
   "source": [
    "### 中值滤波\n",
    "用中间值替代平滑处理后的结果"
   ]
  },
  {
   "cell_type": "code",
   "execution_count": null,
   "metadata": {},
   "outputs": [],
   "source": [
    "median = cv2.medianBlur(noise, 15)\n",
    "imshow(noise,121,\"Origion\")\n",
    "imshow(median,122, \"Median Blur\")"
   ]
  },
  {
   "cell_type": "markdown",
   "metadata": {},
   "source": [
    "## 平铺结果 hstack vstack\n",
    "将数组水平或垂直合并 ~除了展示没啥用~"
   ]
  },
  {
   "cell_type": "code",
   "execution_count": null,
   "metadata": {},
   "outputs": [],
   "source": [
    "hstack = numpy.hstack((noise,median))\n",
    "imshow(hstack)"
   ]
  },
  {
   "cell_type": "markdown",
   "metadata": {},
   "source": [
    "## 腐蚀与膨胀\n",
    "### 腐蚀 erode\n",
    "用小数覆盖大数，一般用来处理二值图\n",
    "\n",
    "`cv2.erode(img, kernel_size, iterations=int)`"
   ]
  },
  {
   "cell_type": "code",
   "execution_count": null,
   "metadata": {},
   "outputs": [],
   "source": [
    "cv_img = cv2.imread('CV.png')\n",
    "erode = cv2.erode(cv_img, (30,30),iterations=4)\n",
    "imshow(cv_img, 121, \"Origion\")\n",
    "imshow(erode, 122, \"Erode\")"
   ]
  },
  {
   "cell_type": "markdown",
   "metadata": {},
   "source": [
    "#### 迭代次数\n",
    "iterations 可以指定腐蚀次数，如下"
   ]
  },
  {
   "cell_type": "code",
   "execution_count": null,
   "metadata": {},
   "outputs": [],
   "source": [
    "circle = cv2.imread('circle.png')\n",
    "imshow(circle,151, \"Origion\")\n",
    "map = {}\n",
    "for i in range(1,5):\n",
    "    iter = (i-1)*50+1\n",
    "    map[iter] = cv2.erode(circle, (30,30),iterations=iter)\n",
    "    imshow(map[iter], 151+i, \"Iteration=\" + str(iter))\n"
   ]
  },
  {
   "cell_type": "markdown",
   "metadata": {},
   "source": [
    "### 膨胀操作 dilate\n",
    "用大值覆盖小值\n",
    "\n",
    "`cv2.dilate(img, kernel_size, iterations=)`"
   ]
  },
  {
   "cell_type": "code",
   "execution_count": null,
   "metadata": {},
   "outputs": [],
   "source": [
    "dilate = cv2.dilate(cv_img, (50,50),iterations=5)\n",
    "imshow(cv_img, 121, \"Origion\")\n",
    "imshow(dilate, 122, \"Erode\")"
   ]
  },
  {
   "cell_type": "markdown",
   "metadata": {},
   "source": [
    "#### 迭代\n",
    "同样，膨胀操作也可以迭代"
   ]
  },
  {
   "cell_type": "code",
   "execution_count": null,
   "metadata": {},
   "outputs": [],
   "source": [
    "\n",
    "circle = cv2.imread('circle.png')\n",
    "imshow(circle,151, \"Origion\")\n",
    "map = {}\n",
    "for i in range(1,5):\n",
    "    iter = (i-1)*50+1\n",
    "    map[iter] = cv2.dilate(circle, (30,30),iterations=iter)\n",
    "    imshow(map[iter], 151+i, \"Iteration=\" + str(iter))"
   ]
  },
  {
   "cell_type": "markdown",
   "metadata": {},
   "source": [
    "#### 与腐蚀操作之间组合"
   ]
  },
  {
   "cell_type": "code",
   "execution_count": null,
   "metadata": {},
   "outputs": [],
   "source": [
    "cmp_erode_dilate = {\n",
    "    'Origion': cv_img,\n",
    "    'Erode' : cv_img,\n",
    "    'Dilate': cv_img\n",
    "}\n",
    "\n",
    "for i in range(0,5):\n",
    "    cmp_erode_dilate['Erode'] = cv2.erode(cmp_erode_dilate['Dilate'], (100,100), iterations=5)\n",
    "    cmp_erode_dilate['Dilate'] = cv2.dilate(cmp_erode_dilate['Erode'], (100,100), iterations=5)\n",
    "\n",
    "imshow(cmp_erode_dilate)"
   ]
  },
  {
   "cell_type": "markdown",
   "metadata": {},
   "source": [
    "### 开运算\n",
    "先腐蚀，后膨胀，是一种组合运算\n",
    "\n",
    "开运算在 `morphologyEx` 中有实现，其 type 为 `cv2.MORPH_OPEN`"
   ]
  },
  {
   "cell_type": "code",
   "execution_count": null,
   "metadata": {},
   "outputs": [],
   "source": [
    "opening = cv2.morphologyEx(cv_img, cv2.MORPH_OPEN, (50,50), iterations=5)\n",
    "imshow({\n",
    "    \"Origion\": cv_img,\n",
    "    \"Morph Open\" : opening\n",
    "})"
   ]
  },
  {
   "cell_type": "markdown",
   "metadata": {},
   "source": [
    "### 闭运算\n",
    "先膨胀，后腐蚀。\n",
    "\n",
    "op 为 `cv2.MORPH_CLOSE`"
   ]
  },
  {
   "cell_type": "code",
   "execution_count": null,
   "metadata": {},
   "outputs": [],
   "source": [
    "closing = cv2.morphologyEx(cv_img, cv2.MORPH_CLOSE, (50,50), iterations=5)\n",
    "imshow({\n",
    "    \"Origion\": cv_img,\n",
    "    \"Morph Close\" : closing\n",
    "})"
   ]
  },
  {
   "cell_type": "markdown",
   "metadata": {},
   "source": [
    "### 梯度计算\n",
    "膨胀结果-腐蚀结果\n",
    "\n",
    "大多数时候会剩一个边框\n",
    "\n",
    "op 为 `cv2.MORPH_GRADIENT`"
   ]
  },
  {
   "cell_type": "code",
   "execution_count": null,
   "metadata": {},
   "outputs": [],
   "source": [
    "graditent = cv2.morphologyEx(cv_img, cv2.MORPH_GRADIENT, (50,50), iterations=5)\n",
    "imshow({\n",
    "    \"Origion\": cv_img,\n",
    "    \"Morph Graditent\" : graditent\n",
    "})"
   ]
  },
  {
   "cell_type": "code",
   "execution_count": null,
   "metadata": {},
   "outputs": [],
   "source": [
    "graditent = cv2.morphologyEx(circle, cv2.MORPH_GRADIENT, (50,50), iterations=5)\n",
    "imshow({\n",
    "    \"Origion\": circle,\n",
    "    \"Morph Graditent\" : graditent\n",
    "})"
   ]
  },
  {
   "cell_type": "markdown",
   "metadata": {},
   "source": [
    "### 礼帽\n",
    "\n",
    "原始输入-开运算\n",
    "\n",
    "也就剩余*被腐蚀*的部分"
   ]
  },
  {
   "cell_type": "code",
   "execution_count": null,
   "metadata": {},
   "outputs": [],
   "source": [
    "tophat = cv2.morphologyEx(cv_img, cv2.MORPH_TOPHAT, (50,50), iterations=5)\n",
    "imshow({\n",
    "    \"Origion\": cv_img,\n",
    "    \"Morph Tophat\" : tophat\n",
    "})"
   ]
  },
  {
   "cell_type": "markdown",
   "metadata": {},
   "source": [
    "### 黑帽\n",
    "闭运算结果-原始输入"
   ]
  },
  {
   "cell_type": "code",
   "execution_count": null,
   "metadata": {},
   "outputs": [],
   "source": [
    "blackhat = cv2.morphologyEx(cv_img, cv2.MORPH_BLACKHAT, (50,50), iterations=5)\n",
    "imshow({\n",
    "    \"Origion\": cv_img,\n",
    "    \"Morph Blackhat\" : blackhat\n",
    "})"
   ]
  },
  {
   "cell_type": "markdown",
   "metadata": {},
   "source": [
    "## 图像梯度\n",
    "### Sobel 算子\n",
    "\n",
    "计算方式:\n",
    "\n",
    "$G_x = \\left[ \\begin{matrix} -1 & 0 & +1 \\\\ -2 & 0 & +2 \\\\ -1 & 0 & +1 \\end{matrix} \\right] * A \\text{  and  } G_y = \\left[ \\begin{matrix} -1 & -2 & -1 \\\\ 0 & 0 & 0 \\\\ +1 & + 2 & +1 \\end{matrix} \\right] * A$\n",
    "\n",
    "使用`cv2.Sobel(src,ddepth, dx,dy ksize)`可选择的在某一方向进行计算\n",
    "\n",
    "| Para | Desc |\n",
    "|:- |:- |\n",
    "| ddepth | 图像深度，`-1`表示与输入相同 |\n",
    "| dx | 计算 x 方向 |\n",
    "| dy | 计算 y 方向 |\n",
    "| ksize | 核大小，int |"
   ]
  },
  {
   "cell_type": "code",
   "execution_count": null,
   "metadata": {},
   "outputs": [],
   "source": [
    "circle = cv2.imread('circle.png')\n",
    "sobelx = cv2.Sobel(circle, -1, 1, 0, ksize = 3)\n",
    "sobely = cv2.Sobel(circle, -1, 0, 1, ksize = 3)\n",
    "sobelxy = cv2.Sobel(circle, -1, 1, 1, ksize = 3)\n",
    "\n",
    "imshow(\n",
    "    {\n",
    "        'Origion': circle,\n",
    "        'Sobel X': sobelx,\n",
    "        'Sobel Y': sobely,\n",
    "        'Sobel XY': sobelxy\n",
    "    }\n",
    ")"
   ]
  },
  {
   "cell_type": "markdown",
   "metadata": {},
   "source": [
    "从上图可以见到，由于右边缘计算结果为负值，OpenCV 进行了截断操作，计算结果变为了 0。\n",
    "\n",
    "如果想要保留值，应该进行取绝对值操作，此时图像的深度应当能储存负值，及需要我们手动指定图像深度。"
   ]
  },
  {
   "cell_type": "code",
   "execution_count": null,
   "metadata": {},
   "outputs": [],
   "source": [
    "sobelx = cv2.Sobel(circle, cv2.CV_64F, 1,0, ksize = 3)\n",
    "sobelx_abs = cv2.convertScaleAbs(sobelx)\n",
    "imshow({\n",
    "    'Origion': circle,\n",
    "    'Abs': sobelx_abs\n",
    "})"
   ]
  },
  {
   "cell_type": "markdown",
   "metadata": {},
   "source": [
    "另外同时处理 x 与 y 方向的运算意味计算斜边，而非计算 x 方向和 y 计算结果可能不预期。\n",
    "\n",
    "如果想要计算x 和 y 方向，应该将 x 的计算结果与 y 的计算结果相加。"
   ]
  },
  {
   "cell_type": "code",
   "execution_count": null,
   "metadata": {},
   "outputs": [],
   "source": [
    "circle = cv2.imread('circle.png')\n",
    "sobelx = cv2.Sobel(circle, cv2.CV_64F, 1, 0, ksize = 3)\n",
    "sobely = cv2.Sobel(circle, cv2.CV_64F, 0, 1, ksize = 3)\n",
    "sobelxy = cv2.Sobel(circle, cv2.CV_64F, 1, 1, ksize = 3)\n",
    "\n",
    "sobelx = cv2.convertScaleAbs(sobelx)\n",
    "sobely = cv2.convertScaleAbs(sobely)\n",
    "sobelxy = cv2.convertScaleAbs(sobelxy)\n",
    "plus = cv2.add(sobelx,sobely)\n",
    "\n",
    "imshow({\n",
    "    'Sobel X': sobelx,\n",
    "    'Sobel Y': sobely,\n",
    "    'Sobel X and Y': sobelxy,\n",
    "    'Sobel X + Sobel Y': plus,\n",
    "})"
   ]
  },
  {
   "cell_type": "markdown",
   "metadata": {},
   "source": [
    "对复杂图片的处理:"
   ]
  },
  {
   "cell_type": "code",
   "execution_count": null,
   "metadata": {},
   "outputs": [],
   "source": [
    "\n",
    "ros = cv2.imread('profile.jpg')\n",
    "sobelx = cv2.Sobel(ros, cv2.CV_64F, 1, 0, ksize = 3)\n",
    "sobely = cv2.Sobel(ros, cv2.CV_64F, 0, 1, ksize = 3)\n",
    "sobelxy = cv2.Sobel(ros, cv2.CV_64F, 1, 1, ksize = 3)\n",
    "\n",
    "sobelx = cv2.convertScaleAbs(sobelx)\n",
    "sobely = cv2.convertScaleAbs(sobely)\n",
    "sobelxy = cv2.convertScaleAbs(sobelxy)\n",
    "plus = cv2.add(sobelx,sobely)\n",
    "\n",
    "imshow({\n",
    "    'Origion': ros,\n",
    "    'Sobel X': sobelx,\n",
    "    'Sobel Y': sobely,\n",
    "    'Sobel X and Y': sobelxy,\n",
    "    'Sobel X + Sobel Y': plus,\n",
    "})"
   ]
  },
  {
   "cell_type": "markdown",
   "metadata": {},
   "source": [
    "### Scharr 算子\n",
    "计算方式：\n",
    "$G_x = \\left[ \\begin{matrix} -3 & 0 & 3 \\\\ -10 & 0 & 10 \\\\ -3 & 0 & 3 \\end{matrix} \\right] * A\\text{  and  } G_y = \\left[ \\begin{matrix} -3 & -10 & -3 \\\\ 0 & 0 & 0 \\\\ -3 & -10 & -3 \\end{matrix} \\right] * A$\n",
    " \n",
    " 与 Sobel 算子相比，整体计算方式相同，但是更加重视中间的内容，对结果也更敏感点\n",
    " \n",
    " **无法同时计算 x 和 y**"
   ]
  },
  {
   "cell_type": "code",
   "execution_count": null,
   "metadata": {},
   "outputs": [],
   "source": [
    "scharrx = cv2.Scharr(circle, cv2.CV_64F,1,0)\n",
    "scharry = cv2.Scharr(circle, cv2.CV_64F,0,1)\n",
    "scharrx = cv2.convertScaleAbs(scharrx)\n",
    "scharry = cv2.convertScaleAbs(scharry)\n",
    "plus = cv2.add(scharrx,scharry)\n",
    "\n",
    "imshow({\n",
    "    'Scharr X': scharrx,\n",
    "    'Scharr Y': scharry,\n",
    "    'Scharr X + Scharr': plus,\n",
    "})"
   ]
  },
  {
   "cell_type": "markdown",
   "metadata": {},
   "source": [
    "对复杂图片的处理:"
   ]
  },
  {
   "cell_type": "code",
   "execution_count": null,
   "metadata": {},
   "outputs": [],
   "source": [
    "ros = cv2.imread('profile.jpg')\n",
    "scharrx = cv2.Scharr(ros, cv2.CV_64F,1,0)\n",
    "scharry = cv2.Scharr(ros, cv2.CV_64F,0,1)\n",
    "scharrx = cv2.convertScaleAbs(scharrx)\n",
    "scharry = cv2.convertScaleAbs(scharry)\n",
    "plus = cv2.add(scharrx,scharry)\n",
    "\n",
    "imshow({\n",
    "    'Origion': ros,\n",
    "    'Scharr X': scharrx,\n",
    "    'Scharr Y': scharry,\n",
    "    'Scharr X + Scharr': plus,\n",
    "})"
   ]
  },
  {
   "cell_type": "markdown",
   "metadata": {},
   "source": [
    "\n",
    "### Laplacian 算子\n",
    "计算方式：\n",
    "$G = \\left[ \\begin{matrix} 0 & 1 & 0 \\\\ 1 & -4 & 1 \\\\ 0 & 1 & 0 \\end{matrix} \\right] * A$\n",
    "\n",
    "像是周围点与边缘点进行比较，像空间变化率？对变化更敏感，但对噪音点也敏感"
   ]
  },
  {
   "cell_type": "code",
   "execution_count": null,
   "metadata": {},
   "outputs": [],
   "source": [
    "\n",
    "lap = cv2.Laplacian(circle, cv2.CV_64F, ksize = 3)\n",
    "lap = cv2.convertScaleAbs(lap)\n",
    "imshow({\n",
    "    'Origion': circle,\n",
    "    'Laplacian': lap\n",
    "})"
   ]
  },
  {
   "cell_type": "code",
   "execution_count": null,
   "metadata": {},
   "outputs": [],
   "source": [
    "ros = cv2.imread('profile.jpg')\n",
    "ros_lap = cv2.Laplacian(ros, cv2.CV_64F, ksize = 3)\n",
    "ros_lap = cv2.convertScaleAbs(ros_lap)\n",
    "imshow({\n",
    "    'Origion': ros,\n",
    "    'Laplacian': ros_lap\n",
    "})"
   ]
  },
  {
   "cell_type": "markdown",
   "metadata": {},
   "source": [
    "### Canny 边缘检测\n",
    "\n",
    "流程：\n",
    "\n",
    "1. 使用高斯滤波器，平滑图像，消除噪声\n",
    "0. 计算图像中的每个像素的梯度强度和方向\n",
    "0. 应用非极大值抑制(Non-Maximum Suppression)，消除边缘检测带来的杂散影响\n",
    "0. 应用双阈值(Double-Threshold) 检测，确定真实的和潜在的边缘\n",
    "0. 通过抑制孤立的弱边缘完成边缘检测\n",
    "\n",
    "#### 双阈值\n",
    "\n",
    "当 $梯度值 > maxval$ 时，处理为边界\n",
    "\n",
    "当 $ maxval > 梯度值 > minval$时，若有边界链接则保留，否则舍弃\n",
    "\n",
    "当 $minval > 梯度值$，舍弃"
   ]
  },
  {
   "cell_type": "code",
   "execution_count": null,
   "metadata": {},
   "outputs": [],
   "source": [
    "ros = cv2.imread('profile.jpg',cv2.IMREAD_GRAYSCALE)\n",
    "imshow({\n",
    "    'Origion': ros,\n",
    "    '(50,100)': cv2.Canny(ros,50,100),\n",
    "    '(100,150)': cv2.Canny(ros, 100,150),\n",
    "    '(200,250)': cv2.Canny(ros, 200,250)\n",
    "})"
   ]
  },
  {
   "cell_type": "markdown",
   "metadata": {},
   "source": [
    "## 图像金字塔\n",
    "### 高斯金字塔\n",
    "#### 向下采样（缩小)\n",
    "+ 将 $G_i$ 与高斯内核卷积\n",
    "+ 将所有的偶数行和列去除\n",
    "#### 向上采样（放大）\n",
    "+ 将图像在每个方向上扩大到原来的两倍，新增的行列以 0 填充\n",
    "+ 使用先前同样的内核（乘以4）与放大后的图像卷积，获得近似值"
   ]
  },
  {
   "cell_type": "code",
   "execution_count": null,
   "metadata": {},
   "outputs": [],
   "source": [
    "import json\n",
    "ros = cv2.imread('profile.jpg')\n",
    "pyrup = cv2.pyrUp(ros)\n",
    "pyrdown =  cv2.pyrDown(ros)\n",
    "imshow({\n",
    "    'Origion': ros,\n",
    "    'Pyr Up': pyrup,\n",
    "    'Pyr Down': pyrdown\n",
    "})\n",
    "print(json.dumps({\n",
    "    'Origion shape': str(ros.shape),\n",
    "    'Pyr up shape': str(pyrup.shape),\n",
    "    'Pyr down shape': str(pyrdown.shape)}))"
   ]
  },
  {
   "cell_type": "markdown",
   "metadata": {},
   "source": [
    "### Laplacian 金字塔\n",
    "$L_i = G_i - PryUp(PyrDown(G_i))$"
   ]
  },
  {
   "cell_type": "code",
   "execution_count": null,
   "metadata": {},
   "outputs": [],
   "source": [
    "def lapPry(img):\n",
    "    down = cv2.pyrDown(img)\n",
    "    down_up = cv2.pyrUp(down)\n",
    "    return img - down_up\n",
    "\n",
    "imshow({\n",
    "    'Origion': ros,\n",
    "    'Laplacian Pyr': lapPry(ros)\n",
    "})"
   ]
  },
  {
   "cell_type": "code",
   "execution_count": null,
   "metadata": {},
   "outputs": [],
   "source": [
    "imshow({\n",
    "    'Origion': circle,\n",
    "    'Laplacian Pyr': lapPry(circle)\n",
    "})"
   ]
  },
  {
   "cell_type": "markdown",
   "metadata": {},
   "source": [
    "## 轮廓检测\n",
    "与边缘相比，轮廓总是闭合的\n",
    "\n",
    "OpenCV 中的 `cv2.findContours(img, mode, method)` 中实现了轮廓检测\n",
    "\n",
    "+ 轮廓检测模式 mode\n",
    "\n",
    "| mode | desc |\n",
    "|:- |:- |\n",
    "| RETR_EXTERNAL | 仅检索外轮廓 |\n",
    "| RETR_LIST | 检索所有轮廓，不建立等级关系（也就是说这个模式不存在父轮廓或者内嵌轮廓）|\n",
    "| RETR_CCOMP | 检索所有轮廓，并将结果组织为两层但所有轮廓只建立两个等级关系，外围为顶层，若外围内的内围轮廓还包含了其他的轮廓信息，则内围内的所有轮廓均归属于顶层 |\n",
    "| RETR_TREE | 检索所有轮廓，建立等级关系树 |\n",
    "\n",
    "+ 轮廓逼近方式 method\n",
    "\n",
    "| method | desc |\n",
    "|:- |:- |\n",
    "| CHAIN_APPROX_NONE | 以 Freeman 链码的方式输出轮廓，所有其他方式输出多边形（顶点的序列） |\n",
    "| CHAIN_APPROX_SIMPLE | 压缩水平的，垂直的和斜的部分，也就是函数只保留他们终点的部分，省内存 ，但缺少细节 |\n",
    "\n",
    "**为了提高准确性，一般使用二值图形、通常已经经过了 Canny 或 Laplacian**\n",
    "\n",
    "返回 `contours` 和 `hierarchy`\n",
    "+ `contours` 保存轮廓信息的向量，可以单独访问某个元素\n",
    "+ `hierarchy` 是一个`size=4`的向量，分别表示轮廓的后、前、子、夫轮廓序号，不过不存在则为 -1"
   ]
  },
  {
   "cell_type": "code",
   "execution_count": null,
   "metadata": {},
   "outputs": [],
   "source": [
    "shapes = cv2.imread('shape.png')\n",
    "gray = cv2.cvtColor(shapes, cv2.COLOR_BGR2GRAY)\n",
    "_, binary= cv2.threshold(gray, 125,255, cv2.THRESH_BINARY)\n",
    "binary = cv2.Canny(binary, 125,200)\n",
    "\n",
    "def doContour(mode):\n",
    "    contours, hierarchy = cv2.findContours(binary, mode, cv2.CHAIN_APPROX_NONE)\n",
    "    canvas = shapes.copy()\n",
    "    draw_all = cv2.drawContours(canvas, contours, -1, (0,0,255), 5)\n",
    "    return draw_all\n",
    "\n",
    "\n",
    "\n",
    "imshow({\n",
    "    'Origion': shapes,\n",
    "    'Canny': binary,\n",
    "    'External': doContour(cv2.RETR_EXTERNAL) ,\n",
    "    'List': doContour(cv2.RETR_LIST) ,\n",
    "    'CComp': doContour(cv2.RETR_CCOMP) ,\n",
    "    'Tree': doContour(cv2.RETR_TREE) \n",
    "})"
   ]
  },
  {
   "cell_type": "markdown",
   "metadata": {},
   "source": [
    "### 画轮廓\n",
    "`drawContours(src, contours, idx, color, size)`\n",
    "\n",
    "注意：python 中此方法会修改 src 对象"
   ]
  },
  {
   "cell_type": "code",
   "execution_count": null,
   "metadata": {},
   "outputs": [],
   "source": [
    "\n",
    "shapes = cv2.imread('shape.png')\n",
    "gray = cv2.cvtColor(shapes, cv2.COLOR_BGR2GRAY)\n",
    "_, binary= cv2.threshold(gray, 125,255, cv2.THRESH_BINARY)\n",
    "binary = cv2.Canny(binary, 125,200)\n",
    "\n",
    "contours, hierarchy = cv2.findContours(binary, cv2.RETR_EXTERNAL, cv2.CHAIN_APPROX_NONE)\n",
    "canvas = cv2.cvtColor(binary, cv2.COLOR_GRAY2BGR)\n",
    "draw_all = cv2.drawContours(canvas, contours, 1, (0,0,255), 5)\n",
    "draw_all = cv2.drawContours(canvas, contours, 2, (0,0,255), 5)\n",
    "imshow([shapes, draw_all])"
   ]
  },
  {
   "cell_type": "markdown",
   "metadata": {},
   "source": [
    "### 轮廓特征\n",
    "面积与边长\n",
    "+ 面积 `cv2.contourArea(contour)`\n",
    "+ 周长 `cv2.arcLength(contour, close)`"
   ]
  },
  {
   "cell_type": "code",
   "execution_count": null,
   "metadata": {},
   "outputs": [],
   "source": [
    "idx = 3\n",
    "canvas = cv2.cvtColor(binary, cv2.COLOR_GRAY2BGR)\n",
    "imshow(cv2.drawContours(canvas, contours, idx, (0,0,255), 3))\n",
    "area = cv2.contourArea(contours[idx])\n",
    "arcLen = cv2.arcLength(contours[idx], True)\n",
    "print(\"Area=\\t\\t{}\\nArcLength=\\t{}\".format(area,arcLen))"
   ]
  },
  {
   "cell_type": "markdown",
   "metadata": {},
   "source": [
    "### 轮廓近似\n",
    "`cv2.approxPolyDP(contour, epsilon, close)`\n",
    "\n",
    "| arg | desc |\n",
    "|:- |:- |\n",
    "| contour | 轮廓 |\n",
    "| epsilon | 轮廓上的点到近似线上的最小距离，数值越小拟合约近似 (拟跟没拟一样)|\n",
    "| closed | 是否闭合 |"
   ]
  },
  {
   "cell_type": "code",
   "execution_count": null,
   "metadata": {},
   "outputs": [],
   "source": [
    "idx = 2\n",
    "def doProcess(esp):\n",
    "    canvas = cv2.cvtColor(binary, cv2.COLOR_GRAY2BGR)\n",
    "    approx = 0\n",
    "    if esp == -1:\n",
    "        approx = contours[idx]\n",
    "    else:\n",
    "        approx = cv2.approxPolyDP(contours[idx], esp, True)\n",
    "    print(len(approx))\n",
    "    return cv2.drawContours(canvas, [approx], 0, (0,0,255), 3)\n",
    "    \n",
    "\n",
    "arcLen = cv2.arcLength(contours[idx], True)\n",
    "\n",
    "imshow(\n",
    "    {\n",
    "        'Origion': doProcess(-1),\n",
    "        '0.01': doProcess(0.01 * arcLen),\n",
    "        '0.02': doProcess(0.02 * arcLen),\n",
    "        '0.035': doProcess(0.035 * arcLen),\n",
    "        '0.05': doProcess(0.05 * arcLen),\n",
    "        '0.1': doProcess(0.1 * arcLen),\n",
    "        '0.2': doProcess(0.2 * arcLen),\n",
    "    }\n",
    ")\n"
   ]
  },
  {
   "cell_type": "markdown",
   "metadata": {},
   "source": [
    "### 外接\n",
    "\n",
    "+ 外接矩形： `cv2.boundRect(contour)`\n",
    "+ 外接圆： `cv2.minEnclosingCircle(contour)`"
   ]
  },
  {
   "cell_type": "code",
   "execution_count": null,
   "metadata": {},
   "outputs": [],
   "source": [
    "circle = cv2.imread('circle.png')\n",
    "\n",
    "canny = cv2.Canny(circle, 125, 200)\n",
    "contours, _  = cv2.findContours(canny, cv2.RETR_EXTERNAL, cv2.CHAIN_APPROX_NONE)\n",
    "\n",
    "drawContour = circle.copy()\n",
    "cv2.drawContours(drawContour, contours, 0, (0,0,255),3)\n",
    "\n",
    "x,y,w,h = cv2.boundingRect(contours[0])\n",
    "drawRect = circle.copy()\n",
    "cv2.rectangle(drawRect, (x,y), (x+w, y + h), (0,0,255), 3)\n",
    "\n",
    "(x,y), r = cv2.minEnclosingCircle(contours[0])\n",
    "drawCir = circle.copy()\n",
    "cv2.circle(drawCir, (int(x),int(y)), int(r), (0,0,255), 3)\n",
    "\n",
    "imshow(\n",
    "    {\n",
    "        'Origion': drawContour,\n",
    "        'Bounding Rect': drawRect,\n",
    "        'Circle': drawCir\n",
    "    }\n",
    ")\n"
   ]
  },
  {
   "cell_type": "markdown",
   "metadata": {},
   "source": [
    "## 统计直方图\n",
    "OpenCV 中可以统计 [0,255] 内的颜色直方图，使用 `cv2.calcHist(image,channels,maks,histSize,size)`\n",
    "\n",
    "| arg | desc |\n",
    "|:- |:- |\n",
    "| image | 原图应为 `uint8` 或者 `float32` |\n",
    "| channels | 统计通道？ `[0]` 标记灰度图，如果是 BGR 从 `[0][1][2]` 中选择一个 |\n",
    "| mask | 遮罩图像，可以为 `None`。 如果想要统计位置范围内的颜色的直方图应制作对应该遮罩 |\n",
    "| histSize | BIN 数量，传数组 |\n",
    "| size | 像素范围，一般为 `[0,256]` |"
   ]
  },
  {
   "cell_type": "code",
   "execution_count": null,
   "metadata": {},
   "outputs": [],
   "source": [
    "img = cv2.imread('noise.png', cv2.IMREAD_GRAYSCALE)\n",
    "# hist = cv2.calcHist([img], [0], None, [256], [0,256])\n",
    "plt.hist(img.ravel(),256)\n",
    "plt.show()\n",
    "None"
   ]
  },
  {
   "cell_type": "markdown",
   "metadata": {},
   "source": [
    "### 彩色图"
   ]
  },
  {
   "cell_type": "code",
   "execution_count": null,
   "metadata": {},
   "outputs": [],
   "source": [
    "img = cv2.imread('noise.png')\n",
    "color = ('b', 'g', 'r')\n",
    "for i, col in enumerate(color):\n",
    "    histr = cv2.calcHist([img], [i], None, [256], [0, 256])\n",
    "    plt.plot(histr, color = col)\n",
    "    plt.xlim([0,256])"
   ]
  }
 ],
 "metadata": {
  "interpreter": {
   "hash": "bac01fafb8b697ecccf8d9c9ef5c1db67179bbef00662d30830e1d49975a80fa"
  },
  "kernelspec": {
   "display_name": "Python 3.10.0 64-bit ('venv': venv)",
   "language": "python",
   "name": "python3"
  },
  "language_info": {
   "codemirror_mode": {
    "name": "ipython",
    "version": 3
   },
   "file_extension": ".py",
   "mimetype": "text/x-python",
   "name": "python",
   "nbconvert_exporter": "python",
   "pygments_lexer": "ipython3",
   "version": "3.10.0"
  },
  "orig_nbformat": 4
 },
 "nbformat": 4,
 "nbformat_minor": 2
}
