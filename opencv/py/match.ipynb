{
 "cells": [
  {
   "cell_type": "markdown",
   "metadata": {},
   "source": [
    "# OpenCV Match"
   ]
  },
  {
   "cell_type": "code",
   "execution_count": null,
   "metadata": {},
   "outputs": [],
   "source": [
    "import cv2\n",
    "import matplotlib.pyplot as plt\n",
    "import numpy\n",
    "import math\n",
    "%matplotlib inline\n",
    "\n",
    "plt.rcParams['figure.figsize'] = [8,6]\n",
    "plt.rcParams['figure.dpi'] = 120\n",
    "\n",
    "\n",
    "def imshow(img, pos=None, title=None):\n",
    "    if isinstance(img, dict):\n",
    "        imshow_map(img)\n",
    "        return\n",
    "    if isinstance(img, list):\n",
    "        imshow_list(img)\n",
    "        return\n",
    "    else:\n",
    "        if pos != None:\n",
    "            plt.subplot(pos)\n",
    "        if (len(img.shape) >=3 and img.shape[2] == 3) or (len(img.shape) == 2):\n",
    "            plt.imshow(cv2.cvtColor(img,cv2.COLOR_BGR2RGBA))\n",
    "        else:\n",
    "            plt.imshow(img)\n",
    "        if title != None:\n",
    "            plt.title(title)\n",
    "\n",
    "def imshow_list(lp):\n",
    "    imshow_map(dict([(idx, value)for idx,value in enumerate(lp)]))\n",
    "\n",
    "\n",
    "def imshow_map(mp):\n",
    "    num = len(mp)\n",
    "    col = 3 if num >= 3 else num % 3 \n",
    "    row = math.ceil(num / 3)\n",
    "    idx = 0\n",
    "    for title in mp:\n",
    "        img = mp[title]\n",
    "        idx += 1\n",
    "        pos = row * 100 + col * 10 + idx\n",
    "        imshow(img, pos, title)\n",
    "\n",
    "face = cv2.imread('profile.jpg')\n",
    "eye = cv2.imread('profile_eye.png')"
   ]
  },
  {
   "cell_type": "markdown",
   "metadata": {},
   "source": [
    "## 模板匹配\n",
    "类似卷积原理，模板从原图上开始滑动，计算模板与图象被覆盖的地方的差别程度。\n",
    "假如原图形是 $A*B$ 大小， 模板是 $a*b$ 大小，则输出结果的矩阵大小是 $(A-a+1)*(B-b+1)$\n",
    "\n",
    "| method | desc |\n",
    "|:- |:- |\n",
    "| TM_SQDIFF | 计算平方不同，计算出来的值越小，越相关 |\n",
    "| TM_CCORR | 计算相关性，计算出来的值越大越相关 |\n",
    "| TM_CCOEFF| 计算相关系数，计算出来的值越大越相关 |\n",
    "| TM_SQDIFF_NORMED | 计算归一化平方不同，计算出来的值越接近 0 ，越相关 |\n",
    "| TM_CCORR_NORMED | 计算归一化相关性，计算出来的值越接近 1 越相关 |\n",
    "| TM_CCOEFF_NORMED | 计算归一化相关系数，计算出来的值越接近1，越相关 |\n",
    "\n",
    "[公式](https://docs.opencv.org/3.3.1/df/dfb/group__imgproc__object.html)\n",
    "\n",
    "推荐使用带归一化的操作，这样可以更好的判断匹配结果"
   ]
  },
  {
   "cell_type": "code",
   "execution_count": null,
   "metadata": {},
   "outputs": [],
   "source": [
    "res = cv2.matchTemplate(face,eye, cv2.TM_SQDIFF_NORMED)\n",
    "minval,maxval,minloc,maxloc = cv2.minMaxLoc(res)\n",
    "\n",
    "canvas = face.copy()\n",
    "cv2.rectangle(canvas, minloc, (minloc[0] + eye.shape[0], minloc[1] + eye.shape[1]), (0,0,255),3)\n",
    "imshow(face,221)\n",
    "imshow(eye,222)\n",
    "imshow(res,223, \"Diff\")\n",
    "imshow(canvas,224)\n",
    "print(minval)"
   ]
  },
  {
   "cell_type": "markdown",
   "metadata": {},
   "source": [
    "注意！模板匹配总会返回匹配结果，也就是说匹配不会失败（只是差值会大些），应作进一步判断"
   ]
  },
  {
   "cell_type": "code",
   "execution_count": null,
   "metadata": {},
   "outputs": [],
   "source": [
    "circle = cv2.imread('circle.png')\n",
    "res = cv2.matchTemplate(face,circle, cv2.TM_SQDIFF_NORMED)\n",
    "minval,maxval,minloc,maxloc = cv2.minMaxLoc(res)\n",
    "\n",
    "canvas = face.copy()\n",
    "cv2.rectangle(canvas, minloc, (minloc[0] + eye.shape[0], minloc[1] + eye.shape[1]), (0,0,255),3)\n",
    "print(minval)\n",
    "\n",
    "imshow(face,221)\n",
    "imshow(eye,222)\n",
    "imshow(res,223, \"Diff\")\n",
    "imshow(canvas,224)"
   ]
  },
  {
   "cell_type": "markdown",
   "metadata": {},
   "source": [
    "### 匹配多个结果"
   ]
  },
  {
   "cell_type": "code",
   "execution_count": null,
   "metadata": {},
   "outputs": [],
   "source": [
    "face2 = numpy.hstack((face,face))\n",
    "res = cv2.matchTemplate(face2,eye, cv2.TM_SQDIFF_NORMED)\n",
    "\n",
    "loc = numpy.where(res < 0.01)\n",
    "\n",
    "canvas = face2.copy()\n",
    "for pt in zip(*loc[::-1]):\n",
    "    minloc = pt\n",
    "    canvas = cv2.rectangle(canvas, minloc, (minloc[0] + eye.shape[0], minloc[1] + eye.shape[1]), (0,0,255),3)\n",
    "\n",
    "imshow(face2,221)\n",
    "imshow(eye,222)\n",
    "imshow(res,223, \"Diff\")\n",
    "imshow(canvas,224)\n",
    "print(minval)"
   ]
  }
 ],
 "metadata": {
  "interpreter": {
   "hash": "bac01fafb8b697ecccf8d9c9ef5c1db67179bbef00662d30830e1d49975a80fa"
  },
  "kernelspec": {
   "display_name": "Python 3.10.0 64-bit ('venv': venv)",
   "language": "python",
   "name": "python3"
  },
  "language_info": {
   "codemirror_mode": {
    "name": "ipython",
    "version": 3
   },
   "file_extension": ".py",
   "mimetype": "text/x-python",
   "name": "python",
   "nbconvert_exporter": "python",
   "pygments_lexer": "ipython3",
   "version": "3.10.0"
  },
  "orig_nbformat": 4
 },
 "nbformat": 4,
 "nbformat_minor": 2
}
