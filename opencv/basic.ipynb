{
 "cells": [
  {
   "cell_type": "markdown",
   "metadata": {},
   "source": [
    "# Basic  \n",
    "\n",
    "## 图像的读取与显示\n",
    "\n",
    "`cv2.imread(path, flag)\n",
    "flag 可取：\n",
    "+ cv2.IMREAD_COLOR\n",
    "+ cv2.IMREAD_GRAYSCALE\n",
    "\n",
    "**注意OpenCV读取的通道默认不是 RGB 而是 BGR**"
   ]
  },
  {
   "cell_type": "code",
   "execution_count": null,
   "metadata": {},
   "outputs": [],
   "source": [
    "import cv2\n",
    "import matplotlib.pyplot as plt\n",
    "import numpy\n",
    "%matplotlib inline\n",
    "\n",
    "def imshow(img):\n",
    "    plt.imshow(cv2.cvtColor(img,cv2.COLOR_BGR2RGBA))\n",
    "\n",
    "img = cv2.imread('profile.jpg')\n",
    "# img = cv2.imread('profile.jpg',cv2.IMREAD_GRAYSCALE)"
   ]
  },
  {
   "cell_type": "markdown",
   "metadata": {},
   "source": [
    "### BGR 与 RGB\n",
    "OpenCV 默认读取的是 BRG，使用 matplotlib 或其他软件时要先处理一下"
   ]
  },
  {
   "cell_type": "code",
   "execution_count": null,
   "metadata": {},
   "outputs": [],
   "source": [
    "plt.imshow(img) # 因为 matplotlib 以 RGB 处理图像，图像显示会有问题\n"
   ]
  },
  {
   "cell_type": "code",
   "execution_count": null,
   "metadata": {},
   "outputs": [],
   "source": [
    "\n",
    "def imshow(img):\n",
    "    plt.imshow(cv2.cvtColor(img,cv2.COLOR_BGR2RGBA))\n",
    "\n",
    "imshow(img)"
   ]
  },
  {
   "cell_type": "markdown",
   "metadata": {},
   "source": [
    "### Mat 的 Shape"
   ]
  },
  {
   "cell_type": "code",
   "execution_count": null,
   "metadata": {},
   "outputs": [],
   "source": [
    "img.shape"
   ]
  },
  {
   "cell_type": "markdown",
   "metadata": {},
   "source": [
    "如上，`img.shape`是一个三元组，分别表示图像矩阵的长宽和通道数量\n",
    "\n",
    "## 图像的保存"
   ]
  },
  {
   "cell_type": "code",
   "execution_count": null,
   "metadata": {},
   "outputs": [],
   "source": [
    "cv2.imwrite(\"gray.jpg\", cv2.cvtColor(img,cv2.COLOR_BGR2GRAY))"
   ]
  },
  {
   "cell_type": "markdown",
   "metadata": {},
   "source": [
    "## ROI (Region of Interest)"
   ]
  },
  {
   "cell_type": "code",
   "execution_count": null,
   "metadata": {},
   "outputs": [],
   "source": [
    "imshow(img[300:600,300:600])"
   ]
  },
  {
   "cell_type": "markdown",
   "metadata": {},
   "source": [
    "## 分离各通道\n",
    "可以通过分割数组来分离 bgr 通道值"
   ]
  },
  {
   "cell_type": "code",
   "execution_count": null,
   "metadata": {},
   "outputs": [],
   "source": [
    "b,g,r = cv2.split(img)\n",
    "imshow(r)\n",
    "r.shape"
   ]
  },
  {
   "cell_type": "markdown",
   "metadata": {},
   "source": [
    "## 合并各通道\n",
    "利用`cv2.merge` 合并通道，参数为三元组,顺序为bgr"
   ]
  },
  {
   "cell_type": "code",
   "execution_count": null,
   "metadata": {},
   "outputs": [],
   "source": [
    "imshow(cv2.merge((b,g,r)))\n"
   ]
  },
  {
   "cell_type": "markdown",
   "metadata": {},
   "source": [
    "## 提取某通道\n",
    "说白点就是把其他通道的值置为零"
   ]
  },
  {
   "cell_type": "code",
   "execution_count": null,
   "metadata": {},
   "outputs": [],
   "source": [
    "img_cpy = img.copy()\n",
    "img_cpy[:,:,:1]=0 #去除G，保留BR\n",
    "imshow(img_cpy)"
   ]
  },
  {
   "cell_type": "markdown",
   "metadata": {},
   "source": [
    "## 边界填充\n",
    "往图像的四周添加空白区域，扩大图像大小\n",
    "\n",
    "在以后的卷积中会用到\n",
    "\n",
    "### 边界种类 border type\n",
    "+ Replicate: 复制最边缘像素\n",
    "+ Reflect: 对感兴趣的图像中的像素在两边进行复制，以最边远像素为轴\n",
    "+ Reflect_101: 类似上一个\n",
    "+ Wrap: 外包装法，和 Reflect 的区别在于它不是轴对称\n",
    "+ Constant: 常数值填充"
   ]
  },
  {
   "cell_type": "code",
   "execution_count": null,
   "metadata": {},
   "outputs": [],
   "source": [
    "top,bottom,left,right = [200,200,200,200]\n",
    "replicate = cv2.copyMakeBorder(img,top,bottom,left,right,borderType=cv2.BORDER_REPLICATE)\n",
    "reflect = cv2.copyMakeBorder(img,top,bottom,left,right,borderType=cv2.BORDER_REFLECT)\n",
    "reflect101 = cv2.copyMakeBorder(img,top,bottom,left,right,borderType=cv2.BORDER_REFLECT_101)\n",
    "wrap = cv2.copyMakeBorder(img,top,bottom,left,right,borderType=cv2.BORDER_WRAP)\n",
    "constant = cv2.copyMakeBorder(img,top,bottom,left,right,borderType=cv2.BORDER_CONSTANT,value=0)\n",
    "\n",
    "plt.subplot(231), imshow(img), plt.title(\"Origional\")\n",
    "plt.subplot(232), imshow(replicate), plt.title(\"Replicate\")\n",
    "plt.subplot(233), imshow(reflect), plt.title(\"Reflect\")\n",
    "plt.subplot(234), imshow(reflect101), plt.title(\"Reflect001\")\n",
    "plt.subplot(235), imshow(wrap), plt.title(\"Wrap\")\n",
    "plt.subplot(236), imshow(constant), plt.title(\"Constant\")\n",
    "plt.show()\n"
   ]
  },
  {
   "cell_type": "markdown",
   "metadata": {},
   "source": [
    "## Numpy 数值计算\n",
    "numpy 中定义了一些运算\n",
    "`+` 是对每个像素都加值，其他运算类似\n"
   ]
  },
  {
   "cell_type": "code",
   "execution_count": null,
   "metadata": {},
   "outputs": [],
   "source": [
    "plus_img = img + 10\n",
    "plt.subplot(121),imshow(img),plt.title(\"Origional\")\n",
    "plt.subplot(122),imshow(plus_img),plt.title(\"Plus\")\n",
    "plt.show()\n",
    "print(\"Origional: \" + str(img[:5,:,0]))\n",
    "print(\"After: \" + str(plus_img[:5,:,0]))"
   ]
  },
  {
   "cell_type": "markdown",
   "metadata": {},
   "source": [
    "图片之间也可以相加，本质就是将各通道相加"
   ]
  },
  {
   "cell_type": "code",
   "execution_count": null,
   "metadata": {},
   "outputs": [],
   "source": [
    "img2 = cv2.imread('xinsuan.png')\n",
    "plus_img1 = img + img2\n",
    "plus_img2 = cv2.add(img,img2)\n",
    "plt.subplot(221),imshow(img),plt.title(\"Image 1\")\n",
    "plt.subplot(222),imshow(img2),plt.title(\"Image 2\")\n",
    "plt.subplot(223),imshow(plus_img1),plt.title(\"numpy\")\n",
    "plt.subplot(224),imshow(plus_img2),plt.title(\"cv2\")"
   ]
  },
  {
   "cell_type": "markdown",
   "metadata": {},
   "source": [
    "甚至可以带权，此时\n",
    "\n",
    "$R=\\alpha img_1 + \\beta img_2 + \\gamma$"
   ]
  },
  {
   "cell_type": "code",
   "execution_count": null,
   "metadata": {},
   "outputs": [],
   "source": [
    "plus_img = cv2.addWeighted(img,0.8,img2,0.2,0)\n",
    "imshow(plus_img)"
   ]
  },
  {
   "cell_type": "markdown",
   "metadata": {},
   "source": [
    "## 调整图像大小\n",
    "cv2.resize()"
   ]
  },
  {
   "cell_type": "code",
   "execution_count": null,
   "metadata": {},
   "outputs": [],
   "source": [
    "img_bigger = cv2.resize(img,(800,1000))\n",
    "imshow(img_bigger)"
   ]
  },
  {
   "cell_type": "markdown",
   "metadata": {},
   "source": [
    "也可以指定相关倍数 `fx` 和 `fy`"
   ]
  },
  {
   "cell_type": "code",
   "execution_count": null,
   "metadata": {},
   "outputs": [],
   "source": [
    "img_bigger = cv2.resize(img,(0,0),fx = 1,fy = 2)\n",
    "imshow(img_bigger)"
   ]
  }
 ],
 "metadata": {
  "interpreter": {
   "hash": "de8af91ad07e7e3c3831f9d13cd6c25fac378cab48b376c89726f8d41541e234"
  },
  "kernelspec": {
   "display_name": "Python 3.10.0 64-bit ('venv': venv)",
   "language": "python",
   "name": "python3"
  },
  "language_info": {
   "codemirror_mode": {
    "name": "ipython",
    "version": 3
   },
   "file_extension": ".py",
   "mimetype": "text/x-python",
   "name": "python",
   "nbconvert_exporter": "python",
   "pygments_lexer": "ipython3",
   "version": "3.10.0"
  },
  "orig_nbformat": 4
 },
 "nbformat": 4,
 "nbformat_minor": 2
}
